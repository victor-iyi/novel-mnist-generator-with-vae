{
 "cells": [
  {
   "cell_type": "markdown",
   "metadata": {
    "deletable": true,
    "editable": true
   },
   "source": [
    "# <span style=\"color:brown\"> Testing VAE"
   ]
  },
  {
   "cell_type": "code",
   "execution_count": null,
   "metadata": {
    "collapsed": true,
    "deletable": true,
    "editable": true
   },
   "outputs": [],
   "source": [
    "import os\n",
    "import sys\n",
    "import datetime as dt\n",
    "\n",
    "import numpy as np\n",
    "import tensorflow as tf\n",
    "import matplotlib.pyplot as plt\n",
    "\n",
    "%matplotlib inline"
   ]
  },
  {
   "cell_type": "markdown",
   "metadata": {
    "deletable": true,
    "editable": true
   },
   "source": [
    "## Loading datasets"
   ]
  },
  {
   "cell_type": "code",
   "execution_count": 2,
   "metadata": {
    "collapsed": false,
    "deletable": true,
    "editable": true
   },
   "outputs": [
    {
     "name": "stdout",
     "output_type": "stream",
     "text": [
      "Extracting datasets/MNIST/train-images-idx3-ubyte.gz\n",
      "Extracting datasets/MNIST/train-labels-idx1-ubyte.gz\n",
      "Extracting datasets/MNIST/t10k-images-idx3-ubyte.gz\n",
      "Extracting datasets/MNIST/t10k-labels-idx1-ubyte.gz\n"
     ]
    }
   ],
   "source": [
    "from tensorflow.examples.tutorials.mnist import input_data\n",
    "data = input_data.read_data_sets('datasets/MNIST/', one_hot=True)"
   ]
  },
  {
   "cell_type": "markdown",
   "metadata": {
    "deletable": true,
    "editable": true
   },
   "source": [
    "## Hyperparameters"
   ]
  },
  {
   "cell_type": "code",
   "execution_count": 3,
   "metadata": {
    "collapsed": true,
    "deletable": true,
    "editable": true
   },
   "outputs": [],
   "source": [
    "# Inputs\n",
    "image_size = 28\n",
    "image_channel = 1\n",
    "image_size_flat = image_size * image_size * image_channel\n",
    "\n",
    "# Network\n",
    "latent_dim = 32\n",
    "hidden_dim = 512\n",
    "\n",
    "# Training\n",
    "learning_rate = 1e-3\n",
    "batch_size = 24\n",
    "iterations = 10000\n",
    "save_interval = 100\n",
    "record_interval = 1000"
   ]
  },
  {
   "cell_type": "markdown",
   "metadata": {
    "deletable": true,
    "editable": true
   },
   "source": [
    "## <span style=\"color:#008899\"> Building the Model"
   ]
  },
  {
   "cell_type": "code",
   "execution_count": 4,
   "metadata": {
    "collapsed": true,
    "deletable": true,
    "editable": true
   },
   "outputs": [],
   "source": [
    "tf.reset_default_graph()\n",
    "\n",
    "X = tf.placeholder(tf.float32, shape=[None, image_size_flat])"
   ]
  },
  {
   "cell_type": "markdown",
   "metadata": {
    "deletable": true,
    "editable": true
   },
   "source": [
    "### <span style=\"color:#505050\"> Helper functions"
   ]
  },
  {
   "cell_type": "code",
   "execution_count": 5,
   "metadata": {
    "collapsed": true,
    "deletable": true,
    "editable": true
   },
   "outputs": [],
   "source": [
    "def weight(shape, name):\n",
    "    initial = tf.truncated_normal(shape=shape, mean=0, stddev=0.1)\n",
    "    return tf.Variable(initial, name=name)\n",
    "\n",
    "def bias(shape, name):\n",
    "    initial = tf.zeros(shape=[shape])\n",
    "    return tf.Variable(initial, name=name)\n",
    "\n",
    "def dense(X, W, b):\n",
    "    return tf.matmul(X, W) + b\n",
    "\n",
    "def plot_images(imgs, size=28, name=None):\n",
    "    grid = int(np.sqrt(len(imgs)))\n",
    "    fig, axes = plt.subplots(grid, grid)\n",
    "    fig.subplots_adjust(hspace=0.3, wspace=0.3)\n",
    "    if name:\n",
    "        plt.suptitle(name)\n",
    "    for i, ax in enumerate(axes.flat):\n",
    "        ax.imshow(imgs[i].reshape([size, size]), cmap='binary', interpolation='bicubic')\n",
    "        ax.set_xticks([])\n",
    "        ax.set_yticks([])\n",
    "    plt.show()"
   ]
  },
  {
   "cell_type": "markdown",
   "metadata": {
    "deletable": true,
    "editable": true
   },
   "source": [
    "### <span style=\"color:#666\">_the encoder_"
   ]
  },
  {
   "cell_type": "code",
   "execution_count": 6,
   "metadata": {
    "collapsed": true,
    "deletable": true,
    "editable": true
   },
   "outputs": [],
   "source": [
    "def encoder(X):\n",
    "    with tf.name_scope('encoder'):\n",
    "        # hidden encoder\n",
    "        W_enc = weight(shape=[image_size_flat, hidden_dim], name='W_enc')\n",
    "        b_enc = bias(shape=hidden_dim, name='b_enc')\n",
    "        h_enc = tf.nn.tanh(dense(X, W_enc, b_enc))\n",
    "        # mean\n",
    "        W_mean = weight(shape=[hidden_dim, latent_dim], name='W_mean')\n",
    "        b_mean = bias(shape=latent_dim, name='b_mean')\n",
    "        mean = dense(h_enc, W_mean, b_mean)\n",
    "        # stddev\n",
    "        W_std = weight(shape=[hidden_dim, latent_dim], name='W_std')\n",
    "        b_std = bias(shape=latent_dim, name='b_std')\n",
    "        stddev = dense(h_enc, W_std, b_std)\n",
    "        # randomness\n",
    "        noise = tf.random_normal(shape=[1, latent_dim])\n",
    "        encoded = mean + tf.multiply(noise, tf.exp(0.5 * stddev))  # mean + (noise * exp(1/2*stddev))\n",
    "        return encoded, mean, stddev"
   ]
  },
  {
   "cell_type": "markdown",
   "metadata": {
    "deletable": true,
    "editable": true
   },
   "source": [
    "### <span style=\"color:#666\">_the decoder_"
   ]
  },
  {
   "cell_type": "code",
   "execution_count": 7,
   "metadata": {
    "collapsed": false,
    "deletable": true,
    "editable": true
   },
   "outputs": [],
   "source": [
    "def decoder(encoded):\n",
    "    with tf.name_scope('decoder'):\n",
    "        # hidden decoder\n",
    "        W_dec = weight(shape=[latent_dim, hidden_dim], name='W_dec')\n",
    "        b_dec = bias(shape=hidden_dim, name='b_dec')\n",
    "        h_dec = tf.nn.tanh(dense(encoded, W_dec, b_dec))\n",
    "        # reconstruction\n",
    "        W_rec = weight(shape=[hidden_dim, image_size_flat], name='W_rec')\n",
    "        b_rec = bias(shape=image_size_flat, name='b_rec')\n",
    "        decoded = tf.nn.sigmoid(dense(h_dec, W_rec, b_rec))\n",
    "        return decoded"
   ]
  },
  {
   "cell_type": "code",
   "execution_count": 8,
   "metadata": {
    "collapsed": false,
    "deletable": true,
    "editable": true
   },
   "outputs": [
    {
     "name": "stdout",
     "output_type": "stream",
     "text": [
      "Tensor(\"encoder/add_3:0\", shape=(?, 32), dtype=float32)\n",
      "Tensor(\"decoder/Sigmoid:0\", shape=(?, 784), dtype=float32)\n"
     ]
    }
   ],
   "source": [
    "encoded, mean, stddev = encoder(X)\n",
    "decoded = decoder(encoded)\n",
    "print(encoded)\n",
    "print(decoded)"
   ]
  },
  {
   "cell_type": "markdown",
   "metadata": {
    "deletable": true,
    "editable": true
   },
   "source": [
    "## Reconstruction loss, KL-Divergence & Optimizer"
   ]
  },
  {
   "cell_type": "code",
   "execution_count": 9,
   "metadata": {
    "collapsed": false,
    "deletable": true,
    "editable": true
   },
   "outputs": [
    {
     "name": "stdout",
     "output_type": "stream",
     "text": [
      "Tensor(\"Sum:0\", shape=(?,), dtype=float32)\n",
      "Tensor(\"mul_2:0\", shape=(?,), dtype=float32)\n",
      "Tensor(\"Mean:0\", shape=(), dtype=float32)\n"
     ]
    }
   ],
   "source": [
    "# rec_loss = tf.reduce_sum(X*tf.log(decoded + 1e-9) + (1 - X) * tf.log(1 - decoded+1e-9), reduction_indices=1)\n",
    "# kl_term = -0.5 * tf.reduce_sum(1 + 2 * stddev - tf.pow(mean, 2) - tf.exp(2*stddev), reduction_indices=1)\n",
    "# loss = tf.reduce_mean(rec_loss - kl_term)\n",
    "\n",
    "rec_loss = tf.reduce_sum(tf.squared_difference(decoded, X), 1)\n",
    "kl_term = -0.5 * tf.reduce_sum(1.0 + 2.0 * stddev - tf.square(mean) - tf.exp(2.0 * stddev), 1)\n",
    "loss = tf.reduce_mean(rec_loss + kl_term)\n",
    "\n",
    "optimizer = tf.train.AdamOptimizer(learning_rate=learning_rate)\n",
    "train_step = optimizer.minimize(loss)\n",
    "\n",
    "print(rec_loss)\n",
    "print(kl_term)\n",
    "print(loss)"
   ]
  },
  {
   "cell_type": "markdown",
   "metadata": {
    "deletable": true,
    "editable": true
   },
   "source": [
    "## Tensorflow `Session` and initializing global variables"
   ]
  },
  {
   "cell_type": "code",
   "execution_count": 10,
   "metadata": {
    "collapsed": true,
    "deletable": true,
    "editable": true
   },
   "outputs": [],
   "source": [
    "sess = tf.Session()\n",
    "init = tf.global_variables_initializer()\n",
    "sess.run(init)"
   ]
  },
  {
   "cell_type": "markdown",
   "metadata": {
    "deletable": true,
    "editable": true
   },
   "source": [
    "### Tensorboard"
   ]
  },
  {
   "cell_type": "code",
   "execution_count": 11,
   "metadata": {
    "collapsed": false,
    "deletable": true,
    "editable": true
   },
   "outputs": [],
   "source": [
    "tensorbaord_dir = 'tensorboard/'\n",
    "logdir = os.path.join(tensorbaord_dir, 'log/')\n",
    "save_path = 'models/'\n",
    "\n",
    "# saver and writer object\n",
    "saver = tf.train.Saver()\n",
    "writer = tf.summary.FileWriter(logdir=logdir, graph=sess.graph)\n",
    "\n",
    "# load last checkpoint\n",
    "if tf.gfile.Exists(save_path):\n",
    "    if len(os.listdir(save_path)) > 1:\n",
    "        saver.restore(sess=sess, save_path=save_path)\n",
    "else:\n",
    "    tf.gfile.MakeDirs(save_path)\n",
    "\n",
    "# Summary\n",
    "tf.summary.histogram('log_likelihood', rec_loss)\n",
    "tf.summary.histogram('kl_term', kl_term)\n",
    "tf.summary.scalar('loss', loss)\n",
    "tf.summary.scalar('log_likelihood_mean', tf.reduce_mean(rec_loss))\n",
    "tf.summary.scalar('kl_term_mean', tf.reduce_mean(kl_term))\n",
    "rec_img = tf.reshape(decoded, [batch_size, image_size, image_size, image_channel])\n",
    "tf.summary.image('rec_img', rec_img, max_outputs=4)\n",
    "merged = tf.summary.merge_all()"
   ]
  },
  {
   "cell_type": "markdown",
   "metadata": {
    "deletable": true,
    "editable": true
   },
   "source": [
    "## <span style=\"color:#008899\"> Training the model"
   ]
  },
  {
   "cell_type": "code",
   "execution_count": 12,
   "metadata": {
    "collapsed": false,
    "deletable": true,
    "editable": true
   },
   "outputs": [
    {
     "name": "stdout",
     "output_type": "stream",
     "text": [
      "Iter: 10,000\tLoss: 51.00\tReconstruction: 37.72\tK-L: 13.28\tTrain time: 0:03:46.103610"
     ]
    }
   ],
   "source": [
    "train_start = dt.datetime.now()\n",
    "for i in range(iterations):\n",
    "    X_batch = np.round(data.train.next_batch(batch_size)[0])\n",
    "    _, _loss, _rec_loss, _kl_term = sess.run([train_step, loss, rec_loss, kl_term], feed_dict={X:X_batch})\n",
    "    if i % save_interval == 0:\n",
    "        saver.save(sess=sess, save_path=save_path)\n",
    "        summary = sess.run(merged, feed_dict={X:X_batch})\n",
    "        writer.add_summary(summary=summary,global_step=i)\n",
    "    sys.stdout.write('\\rIter: {:,}\\tLoss: {:.2f}\\tReconstruction: {:.2f}\\tK-L: {:.2f}\\tTrain time: {}'.format(\n",
    "                        i+1, _loss, np.mean(_rec_loss), np.mean(_kl_term), dt.datetime.now()-train_start))"
   ]
  },
  {
   "cell_type": "markdown",
   "metadata": {
    "collapsed": true,
    "deletable": true,
    "editable": true
   },
   "source": [
    "## <span style=\"color:#889900\"> Testing the model"
   ]
  },
  {
   "cell_type": "code",
   "execution_count": 13,
   "metadata": {
    "collapsed": false,
    "deletable": true,
    "editable": true,
    "scrolled": false
   },
   "outputs": [
    {
     "name": "stdout",
     "output_type": "stream",
     "text": [
      "[-0.74175269  1.4234535   0.24826198  1.13937743 -0.43464874 -0.2276957\n",
      "  0.4328345   0.64084774 -0.07665749 -0.81495923 -0.50186341 -0.9691515\n",
      "  1.44996576  0.18998208 -0.98600186  0.83801326  1.26156878 -1.00567095\n",
      "  0.03653251 -0.58877913 -0.2681829   0.52604816 -0.77746702 -0.43324923\n",
      "  1.25878852  0.27675716  0.96417147 -1.4730881  -0.22256031 -0.58583956\n",
      " -0.66964174  0.56733006]\n"
     ]
    },
    {
     "data": {
      "image/png": "[encoded data removed]",
      "text/plain": [
       "<matplotlib.figure.Figure at 0x120dd8a90>"
      ]
     },
     "metadata": {},
     "output_type": "display_data"
    }
   ],
   "source": [
    "randoms = [np.random.normal(0, 1, latent_dim) for _ in range(30)]\n",
    "print(randoms[1])\n",
    "imgs = sess.run(decoded, feed_dict = {encoded: randoms})\n",
    "plot_images(imgs, name='Reconstructions')"
   ]
  },
  {
   "cell_type": "code",
   "execution_count": 14,
   "metadata": {
    "collapsed": false,
    "deletable": true,
    "editable": true
   },
   "outputs": [
    {
     "data": {
      "image/png": "[encoded data removed]",
      "text/plain": [
       "<matplotlib.figure.Figure at 0x1209695c0>"
      ]
     },
     "metadata": {},
     "output_type": "display_data"
    }
   ],
   "source": [
    "plot_images(data.test.next_batch(26)[0])"
   ]
  },
  {
   "cell_type": "code",
   "execution_count": null,
   "metadata": {
    "collapsed": true,
    "deletable": true,
    "editable": true
   },
   "outputs": [],
   "source": []
  }
 ],
 "metadata": {
  "kernelspec": {
   "display_name": "Python 3",
   "language": "python",
   "name": "python3"
  },
  "language_info": {
   "codemirror_mode": {
    "name": "ipython",
    "version": 3
   },
   "file_extension": ".py",
   "mimetype": "text/x-python",
   "name": "python",
   "nbconvert_exporter": "python",
   "pygments_lexer": "ipython3",
   "version": "3.6.3"
  }
 },
 "nbformat": 4,
 "nbformat_minor": 2
}
