{
 "cells": [
  {
   "cell_type": "markdown",
   "metadata": {},
   "source": [
    "# <span style=\"color:brown\"> Testing VAE"
   ]
  },
  {
   "cell_type": "code",
   "execution_count": null,
   "metadata": {
    "collapsed": true
   },
   "outputs": [],
   "source": [
    "import os\n",
    "import sys\n",
    "import datetime as dt\n",
    "\n",
    "import numpy as np\n",
    "import tensorflow as tf\n",
    "import matplotlib.pyplot as plt\n",
    "\n",
    "%matplotlib inline"
   ]
  },
  {
   "cell_type": "markdown",
   "metadata": {},
   "source": [
    "## Loading datasets"
   ]
  },
  {
   "cell_type": "code",
   "execution_count": null,
   "metadata": {
    "collapsed": false
   },
   "outputs": [],
   "source": [
    "from tensorflow.examples.tutorials.mnist import input_data\n",
    "data = input_data.read_data_sets('datasets/MNIST/', one_hot=True)"
   ]
  },
  {
   "cell_type": "markdown",
   "metadata": {},
   "source": [
    "## Hyperparameters"
   ]
  },
  {
   "cell_type": "code",
   "execution_count": null,
   "metadata": {
    "collapsed": true
   },
   "outputs": [],
   "source": [
    "# Inputs\n",
    "image_size = 28\n",
    "image_channel = 1\n",
    "image_size_flat = image_size * image_size * image_channel\n",
    "\n",
    "# Network\n",
    "latent_dim = 32\n",
    "hidden_dim = 512\n",
    "\n",
    "# Training\n",
    "learning_rate = 1e-3\n",
    "batch_size = 24\n",
    "iterations = 10000\n",
    "save_interval = 50\n",
    "record_interval = 1000"
   ]
  },
  {
   "cell_type": "markdown",
   "metadata": {},
   "source": [
    "## <span style=\"color:#008899\"> Building the Model"
   ]
  },
  {
   "cell_type": "code",
   "execution_count": null,
   "metadata": {
    "collapsed": true
   },
   "outputs": [],
   "source": [
    "tf.reset_default_graph()\n",
    "\n",
    "X = tf.placeholder(tf.float32, shape=[None, image_size_flat])"
   ]
  },
  {
   "cell_type": "markdown",
   "metadata": {},
   "source": []
  },
  {
   "cell_type": "code",
   "execution_count": null,
   "metadata": {
    "collapsed": true
   },
   "outputs": [],
   "source": [
    "def weight(shape, name):\n",
    "    initial = tf.truncated_normal(shape=shape, mean=0, stddev=0.1)\n",
    "    return tf.Variable(initial, name=name)\n",
    "\n",
    "def bias(shape, name):\n",
    "    initial = tf.zeros(shape=[shape])\n",
    "    return tf.Variable(initial, name=name)\n",
    "\n",
    "def dense(X, W, b):\n",
    "    return tf.matmul(X, W) + b\n"
   ]
  },
  {
   "cell_type": "markdown",
   "metadata": {},
   "source": [
    "### <span style=\"color:#666\">_the encoder_"
   ]
  },
  {
   "cell_type": "code",
   "execution_count": null,
   "metadata": {
    "collapsed": true
   },
   "outputs": [],
   "source": [
    "def encoder(X):\n",
    "    with tf.name_scope('encoder'):\n",
    "        # hidden encoder\n",
    "        W_enc = weight(shape=[image_size_flat, hidden_dim], name='W_enc')\n",
    "        b_enc = bias(shape=hidden_dim, name='b_enc')\n",
    "        h_enc = tf.nn.tanh(dense(X, W_enc, b_enc))\n",
    "        # mean\n",
    "        W_mean = weight(shape=[hidden_dim, latent_dim], name='W_mean')\n",
    "        b_mean = bias(shape=latent_dim, name='b_mean')\n",
    "        mean = dense(h_enc, W_mean, b_mean)\n",
    "        # stddev\n",
    "        W_std = weight(shape=[hidden_dim, latent_dim], name='W_std')\n",
    "        b_std = bias(shape=latent_dim, name='b_std')\n",
    "        stddev = dense(h_enc, W_std, b_std)\n",
    "        # randomness\n",
    "        noise = tf.random_normal(shape=[1, latent_dim])\n",
    "        encoded = mean + tf.multiply(noise, tf.exp(0.5 * stddev))  # mean + (noise * exp(1/2*stddev))\n",
    "        return encoded, mean, stddev"
   ]
  },
  {
   "cell_type": "markdown",
   "metadata": {},
   "source": [
    "### <span style=\"color:#666\">_the decoder_"
   ]
  },
  {
   "cell_type": "code",
   "execution_count": null,
   "metadata": {
    "collapsed": false
   },
   "outputs": [],
   "source": [
    "def decoder(encoded):\n",
    "    with tf.name_scope('decoder'):\n",
    "        # hidden decoder\n",
    "        W_dec = weight(shape=[latent_dim, hidden_dim], name='W_dec')\n",
    "        b_dec = bias(shape=hidden_dim, name='b_dec')\n",
    "        h_dec = tf.nn.tanh(dense(encoded, W_dec, b_dec))\n",
    "        # reconstruction\n",
    "        W_rec = weight(shape=[hidden_dim, image_size_flat], name='W_rec')\n",
    "        b_rec = bias(shape=image_size_flat, name='b_rec')\n",
    "        decoded = tf.nn.sigmoid(dense(h_dec, W_rec, b_rec))\n",
    "        return decoded"
   ]
  },
  {
   "cell_type": "code",
   "execution_count": null,
   "metadata": {
    "collapsed": false
   },
   "outputs": [],
   "source": [
    "encoded, mean, stddev = encoder(X)\n",
    "decoded = decoder(encoded)"
   ]
  },
  {
   "cell_type": "markdown",
   "metadata": {},
   "source": [
    "## Reconstruction loss, KL-Divergence & Optimizer"
   ]
  },
  {
   "cell_type": "code",
   "execution_count": null,
   "metadata": {
    "collapsed": false
   },
   "outputs": [],
   "source": [
    "rec_loss = tf.reduce_sum(X*tf.log(decoded + 1e-9) + (1 - X) * tf.log(1 - decoded+1e-9), reduction_indices=1)\n",
    "kl_term = -0.5 * tf.reduce_sum(1 + 2 * stddev - tf.pow(mean, 2) - tf.exp(2*stddev), reduction_indices=1)\n",
    "loss = tf.reduce_mean(rec_loss - kl_term)\n",
    "\n",
    "optimizer = tf.train.AdamOptimizer(learning_rate=learning_rate)\n",
    "train_step = optimizer.minimize(loss)\n",
    "\n",
    "print(rec_loss)\n",
    "print(kl_term)\n",
    "print(loss)"
   ]
  },
  {
   "cell_type": "markdown",
   "metadata": {},
   "source": [
    "## Tensorflow `Session` and initializing global variables"
   ]
  },
  {
   "cell_type": "code",
   "execution_count": null,
   "metadata": {
    "collapsed": true
   },
   "outputs": [],
   "source": [
    "sess = tf.Session()\n",
    "init = tf.global_variables_initializer()\n",
    "sess.run(init)"
   ]
  },
  {
   "cell_type": "markdown",
   "metadata": {},
   "source": [
    "### Tensorboard"
   ]
  },
  {
   "cell_type": "code",
   "execution_count": null,
   "metadata": {
    "collapsed": false
   },
   "outputs": [],
   "source": [
    "tensorbaord_dir = 'tensorboard/'\n",
    "logdir = os.path.join(tensorbaord_dir, 'log/')\n",
    "save_path = 'models/'\n",
    "\n",
    "# saver and writer object\n",
    "saver = tf.train.Saver()\n",
    "writer = tf.summary.FileWriter(logdir=logdir, graph=sess.graph)\n",
    "\n",
    "# load last checkpoint\n",
    "if tf.gfile.Exists(save_path):\n",
    "    if len(tf.gfile.ListDirectory(save_path)) > 1:\n",
    "        saver.restore(sess=sess, save_path=tf.train.latest_checkpoint(save_path))\n",
    "else:\n",
    "    tf.gfile.MakeDirs(save_path)\n",
    "\n",
    "# Summary\n",
    "tf.summary.histogram('log_likelihood', rec_loss)\n",
    "tf.summary.histogram('kl_term', kl_term)\n",
    "tf.summary.scalar('loss', loss)\n",
    "# mean of the log likelihood & kl divergence term\n",
    "tf.summary.scalar('log_likelihood_mean', tf.reduce_mean(rec_loss))\n",
    "tf.summary.scalar('kl_term_mean', tf.reduce_mean(kl_term))\n",
    "merged = tf.summary.merge_all()"
   ]
  },
  {
   "cell_type": "markdown",
   "metadata": {},
   "source": [
    "## <span style=\"color:#008899\"> Training the model"
   ]
  },
  {
   "cell_type": "code",
   "execution_count": null,
   "metadata": {
    "collapsed": false
   },
   "outputs": [],
   "source": [
    "loss_arr = []\n",
    "kl_term_arr = []\n",
    "log_likelihood_arr = []\n",
    "iter_arr = [i*record_interval for i in range(iterations // record_interval)]\n",
    "\n",
    "train_start = dt.datetime.now()\n",
    "for i in range(iterations):\n",
    "    X_batch = np.round(data.train.next_batch(batch_size)[0])\n",
    "    _loss, _rec_loss, _kl_term = sess.run([train_step, rec_loss, kl_term], feed_dict={X:X_batch})\n",
    "    if i % save_interval == 0:\n",
    "        saver.save(sess=sess, save_path=save_path)\n",
    "        summary = sess.run(merged, feed_dict={X:X_batch})\n",
    "        writer.add_summary(summary=summary,global_step=i)\n",
    "#     sys.stdout.write('\\rIter: {:,}\\tLoss: {:.4f}\\tReconstruction: {:.4f}\\tK-L: {:.4f}\\tTrain time: {}'.format(\n",
    "#                         i+1, _loss, np.mean(_rec_loss), np.mean(_kl_term), dt.datetime.now()-train_start))\n",
    "    sys.stdout.write('\\rIter: {:,}\\tTrain time: {}'.format(\n",
    "                    i+1, dt.datetime.now()-train_start))"
   ]
  },
  {
   "cell_type": "code",
   "execution_count": null,
   "metadata": {
    "collapsed": true
   },
   "outputs": [],
   "source": []
  },
  {
   "cell_type": "code",
   "execution_count": null,
   "metadata": {
    "collapsed": true
   },
   "outputs": [],
   "source": []
  }
 ],
 "metadata": {
  "kernelspec": {
   "display_name": "Python 3",
   "language": "python",
   "name": "python3"
  },
  "language_info": {
   "codemirror_mode": {
    "name": "ipython",
    "version": 3
   },
   "file_extension": ".py",
   "mimetype": "text/x-python",
   "name": "python",
   "nbconvert_exporter": "python",
   "pygments_lexer": "ipython3",
   "version": "3.6.3"
  }
 },
 "nbformat": 4,
 "nbformat_minor": 2
}
