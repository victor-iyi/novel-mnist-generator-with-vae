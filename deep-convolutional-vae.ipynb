{
 "cells": [
  {
   "cell_type": "markdown",
   "metadata": {
    "collapsed": true,
    "deletable": true,
    "editable": true
   },
   "source": [
    "# Deep Convolutional VAE"
   ]
  },
  {
   "cell_type": "code",
   "execution_count": 3,
   "metadata": {
    "collapsed": false
   },
   "outputs": [],
   "source": [
    "import os\n",
    "import sys\n",
    "import datetime as dt\n",
    "\n",
    "import numpy as np\n",
    "import tensorflow as tf\n",
    "import matplotlib.pyplot as plt\n",
    "\n",
    "%matplotlib inline"
   ]
  },
  {
   "cell_type": "code",
   "execution_count": 4,
   "metadata": {
    "collapsed": false
   },
   "outputs": [
    {
     "name": "stdout",
     "output_type": "stream",
     "text": [
      "Extracting datasets/MNIST/train-images-idx3-ubyte.gz\n",
      "Extracting datasets/MNIST/train-labels-idx1-ubyte.gz\n",
      "Extracting datasets/MNIST/t10k-images-idx3-ubyte.gz\n",
      "Extracting datasets/MNIST/t10k-labels-idx1-ubyte.gz\n"
     ]
    }
   ],
   "source": [
    "from tensorflow.examples.tutorials.mnist import input_data\n",
    "data = input_data.read_data_sets('datasets/MNIST/', one_hot=True)"
   ]
  },
  {
   "cell_type": "markdown",
   "metadata": {},
   "source": [
    "### Hyperparameters"
   ]
  },
  {
   "cell_type": "code",
   "execution_count": 5,
   "metadata": {
    "collapsed": true
   },
   "outputs": [],
   "source": [
    "# Inputs\n",
    "image_size = 28\n",
    "image_channel = 1\n",
    "image_size_flat = image_size * image_size * image_channel\n",
    "\n",
    "# Network\n",
    "filter_size = 5\n",
    "conv1_size = 32\n",
    "conv2_size = 64\n",
    "fc1_size = 1024\n",
    "hidden_dim = 256\n",
    "latent_dim = 128\n",
    "keep_prob = 0.8\n",
    "\n",
    "# Training\n",
    "learning_rate = 1e-3\n",
    "batch_size = 24\n",
    "iterations = 10000\n",
    "log_interval = 1000\n",
    "save_interval = 100"
   ]
  },
  {
   "cell_type": "markdown",
   "metadata": {},
   "source": [
    "### Helper functions"
   ]
  },
  {
   "cell_type": "code",
   "execution_count": 6,
   "metadata": {
    "collapsed": true
   },
   "outputs": [],
   "source": [
    "# weights\n",
    "def weight(shape, name):\n",
    "    initial = tf.truncated_normal(shape=shape, mean=0, stddev=0.4)\n",
    "    return tf.Variable(initial, name=name)\n",
    "\n",
    "# biases\n",
    "def bias(shape, name):\n",
    "    initial = tf.zeros(shape=[shape])\n",
    "    return tf.Variable(initial, name=name)\n",
    "\n",
    "# convolutional block\n",
    "def conv(X, W, b):\n",
    "    layer = tf.nn.conv2d(layer, W, strides=[1, 1, 1, 1], padding='SAME')\n",
    "    layer = layer + b  # add bias\n",
    "    layer = tf.nn.relu(layer)\n",
    "    layer = tf.nn.max_pool(layer, ksize=[1, 2, 2, 1], strides=[1, 2, 2, 1], padding='SAME')\n",
    "    return layer\n",
    "\n",
    "# deconvolutional block\n",
    "def deconv(X, W, b):\n",
    "    pass\n",
    "\n",
    "# fully connected block\n",
    "def dense(X, W, b, activation=tf.nn.relu):\n",
    "    layer = tf.matmul(x, W) + b\n",
    "    if activation:\n",
    "        layer = activation(layer)\n",
    "    return layer\n",
    "\n",
    "# flatten\n",
    "def flatten(layer):\n",
    "    shape = layer.get_shape()\n",
    "    features = np.array(shape[1:4], dtype=int).prod()\n",
    "    layer = tf.reshape(layer, [-1, features])\n",
    "    return layer, features"
   ]
  },
  {
   "cell_type": "code",
   "execution_count": 7,
   "metadata": {
    "collapsed": true
   },
   "outputs": [],
   "source": [
    "def encoder(image):\n",
    "    with tf.name_scope('encoder'):\n",
    "        image = tf.reshape(image, [-1, image_size, image_size, image_channel])\n",
    "        # 1st conv layer\n",
    "        W_conv1 = weight(shape=[filter_size, filter_size, image_channel, conv1_size], name='W_conv1')\n",
    "        b_conv1 = bias(shape=conv1_size, name='b_conv1')\n",
    "        conv1 = conv(image, W_conv1, b_conv1)\n",
    "        # 2nd conv layer\n",
    "        W_conv2 = weight(shape=[filter_size, filter_size, conv1_size, conv2_size], name='W_conv2')\n",
    "        b_conv2 = bias(shape=conv2_size, name='b_conv2')\n",
    "        conv2 = conv(conv1, W_conv2, b_conv2)\n",
    "        # Flatten\n",
    "        flattened, feature = flatten(conv2)\n",
    "        # Fully connected 1\n",
    "        W_fc1 = weight(shape=[feature, fc1_size], name='W_fc1')\n",
    "        b_fc1 = bias(shape=fc1_size, name='b_fc1')\n",
    "        fc1 = dense(flattened, W_fc1, b_fc1)\n",
    "        # Fully connected 2\n",
    "        W_fc2 = weight(shape=[fc1_size, hidden_dim], name='W_fc2')\n",
    "        b_fc2 = bias(shape=hidden_dim, name='b_fc2')\n",
    "        fc2 = dense(fc1, W_fc2, b_fc2)\n",
    "        # Mean\n",
    "        W_mean = weight(shape=[hidden_dim, latent_dim], name='W_mean')\n",
    "        b_mean = bias(shape=latent_dim, name='b_mean')\n",
    "        mean = dense(fc2, W_mean, b_mean, activation=None)\n",
    "        # Stddev\n",
    "        W_stddev = weight(shape=[hidden_dim, latent_dim], name='W_stddev')\n",
    "        b_stddev = bias(shape=latent_dim, name='b_stddev')\n",
    "        stddev = 0.5 * dense(fc2, W_stddev, b_stddev, activation=None)\n",
    "        # Random noise\n",
    "        noise = tf.random_normal(shape=[1, latent_dim])\n",
    "        encoded = mean + tf.multiply(noise, tf.exp(0.5 * stddev))\n",
    "        return encoded, mean, stddev"
   ]
  },
  {
   "cell_type": "code",
   "execution_count": null,
   "metadata": {
    "collapsed": true
   },
   "outputs": [],
   "source": [
    "def decoder(encoded):\n",
    "    with tf.name_scope('decoder'):\n",
    "        # Fully connected 1\n",
    "        W_fc1 = weight(shape=[latent_dim, hidden_dim], name='W_fc1')\n",
    "        b_fc1 = bias(shape=latent_dim, name='b_fc1')\n",
    "        fc1 = dense(encoded, W_fc1, b_fc1, activation=tf.nn.tanh)\n",
    "        # Fully connected 2\n",
    "        W_fc2 = weight(shape=[hidden_dim, fc2_size], name='W_fc2')\n",
    "        b_fc2 = bias(shape=fc2_size, name='b_fc2')\n",
    "        fc2 = dense(fc1, W_fc2, b_fc2, activation=tf.nn.tanh)\n",
    "        # Reconstruction\n",
    "        W_rec = weight(shape=[fc2_size, image_size_flat], name='W_rec')\n",
    "        b_rec = bias(shape=image_size_flat, name='b_rec')\n",
    "        re"
   ]
  }
 ],
 "metadata": {
  "kernelspec": {
   "display_name": "Python 3",
   "language": "python",
   "name": "python3"
  },
  "language_info": {
   "codemirror_mode": {
    "name": "ipython",
    "version": 3
   },
   "file_extension": ".py",
   "mimetype": "text/x-python",
   "name": "python",
   "nbconvert_exporter": "python",
   "pygments_lexer": "ipython3",
   "version": "3.6.3"
  }
 },
 "nbformat": 4,
 "nbformat_minor": 2
}
