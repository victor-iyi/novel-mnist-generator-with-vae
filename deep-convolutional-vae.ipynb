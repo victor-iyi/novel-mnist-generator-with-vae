{
 "cells": [
  {
   "cell_type": "markdown",
   "metadata": {
    "collapsed": true,
    "deletable": true,
    "editable": true
   },
   "source": [
    "# Deep Convolutional VAE"
   ]
  },
  {
   "cell_type": "code",
   "execution_count": 1,
   "metadata": {
    "collapsed": false,
    "deletable": true,
    "editable": true
   },
   "outputs": [],
   "source": [
    "import os\n",
    "import sys\n",
    "import datetime as dt\n",
    "\n",
    "import numpy as np\n",
    "import tensorflow as tf\n",
    "import matplotlib.pyplot as plt\n",
    "\n",
    "from dataset import ImageDataset\n",
    "\n",
    "%matplotlib inline"
   ]
  },
  {
   "cell_type": "code",
   "execution_count": 2,
   "metadata": {
    "collapsed": true,
    "deletable": true,
    "editable": true
   },
   "outputs": [],
   "source": [
    "data_dir = 'datasets/flowers/'\n",
    "save_data = 'datasets/saved/data.pkl'"
   ]
  },
  {
   "cell_type": "code",
   "execution_count": 3,
   "metadata": {
    "collapsed": false,
    "deletable": true,
    "editable": true,
    "scrolled": false
   },
   "outputs": [],
   "source": [
    "data = ImageDataset(data_dir=data_dir, grayscale=False, flatten=True, size=64, logging=True)\n",
    "# data.create()\n",
    "# data.save(save_data, force=True)\n",
    "data = data.load(save_data)"
   ]
  },
  {
   "cell_type": "code",
   "execution_count": 4,
   "metadata": {
    "collapsed": false,
    "deletable": true,
    "editable": true
   },
   "outputs": [
    {
     "name": "stdout",
     "output_type": "stream",
     "text": [
      "Number of training data: 3,670\n"
     ]
    }
   ],
   "source": [
    "print('Number of training data: {:,}'.format(data.num_examples))"
   ]
  },
  {
   "cell_type": "markdown",
   "metadata": {
    "deletable": true,
    "editable": true
   },
   "source": [
    "### Hyperparameters"
   ]
  },
  {
   "cell_type": "code",
   "execution_count": 5,
   "metadata": {
    "collapsed": false,
    "deletable": true,
    "editable": true
   },
   "outputs": [
    {
     "name": "stdout",
     "output_type": "stream",
     "text": [
      "Sizie = 64 Channels = 3\n"
     ]
    }
   ],
   "source": [
    "# Inputs\n",
    "image_size = data.size\n",
    "image_channel = data.channel\n",
    "image_size_flat = image_size * image_size * image_channel\n",
    "print('Sizie = {:,} Channels = {:,}'.format(image_size, image_channel))\n",
    "\n",
    "# Network\n",
    "filter_size = 5\n",
    "conv1_size = 32\n",
    "conv2_size = 64\n",
    "fc1_size = 1024\n",
    "hidden_dim = 256\n",
    "latent_dim = 128\n",
    "keep_prob = 0.8\n",
    "\n",
    "# Training\n",
    "learning_rate = 1e-3\n",
    "batch_size = 24\n",
    "iterations = 10000\n",
    "log_interval = 1000\n",
    "save_interval = 100"
   ]
  },
  {
   "cell_type": "markdown",
   "metadata": {
    "deletable": true,
    "editable": true
   },
   "source": [
    "### Helper functions"
   ]
  },
  {
   "cell_type": "code",
   "execution_count": 6,
   "metadata": {
    "collapsed": true,
    "deletable": true,
    "editable": true
   },
   "outputs": [],
   "source": [
    "# weights\n",
    "def weight(shape, name):\n",
    "    initial = tf.truncated_normal(shape=shape, mean=0, stddev=0.4)\n",
    "    return tf.Variable(initial, name=name)\n",
    "\n",
    "# biases\n",
    "def bias(shape, name):\n",
    "    initial = tf.zeros(shape=[shape])\n",
    "    return tf.Variable(initial, name=name)\n",
    "\n",
    "def leakyReLU(X, alpha=0.3):\n",
    "    return tf.maximum(X, tf.multiply(X, alpha))\n",
    "\n",
    "# convolutional block\n",
    "def conv(X, W, b):\n",
    "    layer = tf.nn.conv2d(X, W, strides=[1, 1, 1, 1], padding='SAME')\n",
    "    layer = layer + b  # add bias\n",
    "    layer = tf.nn.relu(layer)\n",
    "    layer = tf.nn.max_pool(layer, ksize=[1, 2, 2, 1], strides=[1, 2, 2, 1], padding='SAME')\n",
    "    layer = tf.contrib.layers.batch_norm(layer)\n",
    "    return layer\n",
    "\n",
    "# deconvolutional block\n",
    "def deconv(X, W, b):\n",
    "    pass\n",
    "\n",
    "# fully connected block\n",
    "def dense(X, W, b, activation=leakyReLU, batch_norm=False):\n",
    "    layer = tf.matmul(X, W) + b\n",
    "    if activation:\n",
    "        layer = activation(layer)\n",
    "    if batch_norm:\n",
    "        layer = tf.contrib.layers.batch_norm(layer)\n",
    "    return layer\n",
    "\n",
    "# flatten\n",
    "def flatten(layer):\n",
    "    shape = layer.get_shape()\n",
    "    features = np.array(shape[1:4], dtype=int).prod()\n",
    "    layer = tf.reshape(layer, [-1, features])\n",
    "    return layer, features\n",
    "\n",
    "# Plot images in grid\n",
    "def plot_images(imgs, size=28, name=None, smooth=False, **kwargs):\n",
    "    grid = int(np.sqrt(len(imgs)))\n",
    "    # Create figure with sub-plots.\n",
    "    fig, axes = plt.subplots(grid, grid)\n",
    "    fig.subplots_adjust(hspace=0.3, wspace=0.3)\n",
    "    \n",
    "    for i, ax in enumerate(axes.flat):\n",
    "        # Interpolation type.\n",
    "        interpolation = 'spline16' if smooth else 'nearest'\n",
    "        # Plot image.\n",
    "        ax.imshow(imgs[i].reshape([image_size, image_size, image_channel]), interpolation=interpolation, **kwargs)\n",
    "        # Remove ticks from the plot.\n",
    "        ax.set_xticks([])\n",
    "        ax.set_yticks([])\n",
    "    if name:\n",
    "        plt.suptitle(name)\n",
    "    plt.show()"
   ]
  },
  {
   "cell_type": "code",
   "execution_count": 7,
   "metadata": {
    "collapsed": true,
    "deletable": true,
    "editable": true
   },
   "outputs": [],
   "source": [
    "def encoder(image):\n",
    "    with tf.name_scope('encoder'):\n",
    "        image = tf.reshape(image, [-1, image_size, image_size, image_channel])\n",
    "        # 1st conv layer\n",
    "        W_conv1 = weight(shape=[filter_size, filter_size, image_channel, conv1_size], name='W_conv1')\n",
    "        b_conv1 = bias(shape=conv1_size, name='b_conv1')\n",
    "        conv1 = conv(image, W_conv1, b_conv1)\n",
    "        # 2nd conv layer\n",
    "        W_conv2 = weight(shape=[filter_size, filter_size, conv1_size, conv2_size], name='W_conv2')\n",
    "        b_conv2 = bias(shape=conv2_size, name='b_conv2')\n",
    "        conv2 = conv(conv1, W_conv2, b_conv2)\n",
    "        # Flatten\n",
    "        flattened, feature = flatten(conv2)\n",
    "        # Fully connected 1\n",
    "        W_fc1 = weight(shape=[feature, fc1_size], name='W_fc1')\n",
    "        b_fc1 = bias(shape=fc1_size, name='b_fc1')\n",
    "        fc1 = dense(flattened, W_fc1, b_fc1, batch_norm=True)\n",
    "        # Fully connected 2\n",
    "        W_fc2 = weight(shape=[fc1_size, hidden_dim], name='W_fc2')\n",
    "        b_fc2 = bias(shape=hidden_dim, name='b_fc2')\n",
    "        fc2 = dense(fc1, W_fc2, b_fc2, batch_norm=True)\n",
    "        # Mean\n",
    "        W_mean = weight(shape=[hidden_dim, latent_dim], name='W_mean')\n",
    "        b_mean = bias(shape=latent_dim, name='b_mean')\n",
    "        mean = dense(fc2, W_mean, b_mean, activation=None, batch_norm=True)\n",
    "        # Stddev\n",
    "        W_stddev = weight(shape=[hidden_dim, latent_dim], name='W_stddev')\n",
    "        b_stddev = bias(shape=latent_dim, name='b_stddev')\n",
    "        stddev = 0.5 * dense(fc2, W_stddev, b_stddev, activation=None, batch_norm=True)\n",
    "        # Random noise\n",
    "        noise = tf.random_normal(shape=[1, latent_dim])\n",
    "        encoded = mean + tf.multiply(noise, tf.exp(0.5 * stddev))\n",
    "        return encoded, mean, stddev"
   ]
  },
  {
   "cell_type": "code",
   "execution_count": 8,
   "metadata": {
    "collapsed": true,
    "deletable": true,
    "editable": true
   },
   "outputs": [],
   "source": [
    "def decoder(encoded):\n",
    "    with tf.name_scope('decoder'):\n",
    "        # Fully connected 1\n",
    "        W_fc1 = weight(shape=[latent_dim, hidden_dim], name='W_fc1')\n",
    "        b_fc1 = bias(shape=hidden_dim, name='b_fc1')\n",
    "        fc1 = dense(encoded, W_fc1, b_fc1, activation=leakyReLU, batch_norm=True)\n",
    "        # Fully connected 2\n",
    "        W_fc2 = weight(shape=[hidden_dim, fc1_size], name='W_fc2')\n",
    "        b_fc2 = bias(shape=fc1_size, name='b_fc2')\n",
    "        fc2 = dense(fc1, W_fc2, b_fc2, activation=leakyReLU, batch_norm=True)\n",
    "        # Reconstruction\n",
    "        W_rec = weight(shape=[fc1_size, image_size_flat], name='W_rec')\n",
    "        b_rec = bias(shape=image_size_flat, name='b_rec')\n",
    "        decoded = dense(fc2, W_rec, b_rec, activation=tf.nn.sigmoid)\n",
    "        return decoded"
   ]
  },
  {
   "cell_type": "code",
   "execution_count": 9,
   "metadata": {
    "collapsed": false,
    "deletable": true,
    "editable": true,
    "scrolled": false
   },
   "outputs": [],
   "source": [
    "tf.reset_default_graph()\n",
    "\n",
    "X = tf.placeholder(tf.float32, shape=[None, image_size_flat])\n",
    "\n",
    "encoded, mean, stddev = encoder(X)\n",
    "decoded = decoder(encoded)"
   ]
  },
  {
   "cell_type": "markdown",
   "metadata": {
    "deletable": true,
    "editable": true
   },
   "source": [
    "### Reconstruction loss, KL-Divergence & optimizer"
   ]
  },
  {
   "cell_type": "code",
   "execution_count": 10,
   "metadata": {
    "collapsed": false,
    "deletable": true,
    "editable": true
   },
   "outputs": [],
   "source": [
    "rec_loss = tf.reduce_sum(tf.squared_difference(decoded, X), reduction_indices=1)\n",
    "kl_term = -0.5 * tf.reduce_sum(1.0 + 2.0 * stddev - tf.square(mean) - tf.exp(2.0 * stddev), reduction_indices=1)\n",
    "loss = tf.reduce_mean(rec_loss + kl_term)\n",
    "\n",
    "global_step = tf.Variable(initial_value=0, trainable=False, name='global_step')\n",
    "optimizer = tf.train.AdamOptimizer(learning_rate=learning_rate)\n",
    "train_step = optimizer.minimize(loss, global_step=global_step)"
   ]
  },
  {
   "cell_type": "markdown",
   "metadata": {
    "deletable": true,
    "editable": true
   },
   "source": [
    "## Tensorflow's `tf.Session()`"
   ]
  },
  {
   "cell_type": "code",
   "execution_count": 11,
   "metadata": {
    "collapsed": true,
    "deletable": true,
    "editable": true
   },
   "outputs": [],
   "source": [
    "sess = tf.Session()\n",
    "init = tf.global_variables_initializer()\n",
    "sess.run(init)"
   ]
  },
  {
   "cell_type": "markdown",
   "metadata": {
    "deletable": true,
    "editable": true
   },
   "source": [
    "### Tensorboard"
   ]
  },
  {
   "cell_type": "code",
   "execution_count": 12,
   "metadata": {
    "collapsed": true,
    "deletable": true,
    "editable": true
   },
   "outputs": [],
   "source": [
    "tensorboard_dir = 'tensorboard/'\n",
    "logdir = os.path.join(tensorboard_dir, 'log')\n",
    "save_path = 'models'\n",
    "pretrained = os.path.join(save_path, 'model')\n",
    "\n",
    "tf.summary.histogram('rec_loss', rec_loss)\n",
    "tf.summary.histogram('kl_term', kl_term)\n",
    "\n",
    "tf.summary.scalar('loss', loss)\n",
    "tf.summary.scalar('kl_term_mean', tf.reduce_mean(kl_term))\n",
    "tf.summary.scalar('rec_loss_mean', tf.reduce_mean(rec_loss))\n",
    "rec_img = tf.reshape(decoded, [-1, image_size, image_size, image_channel])\n",
    "tf.summary.image('rec_img', rec_img, max_outputs=4)\n",
    "merged = tf.summary.merge_all()"
   ]
  },
  {
   "cell_type": "code",
   "execution_count": 13,
   "metadata": {
    "collapsed": false,
    "deletable": true,
    "editable": true
   },
   "outputs": [
    {
     "name": "stdout",
     "output_type": "stream",
     "text": [
      "Attempting to restore the last checkpoint.\n",
      "INFO:tensorflow:Restoring parameters from models/model-9000\n",
      "Restored checkpoint from models/model-9000"
     ]
    }
   ],
   "source": [
    "saver = tf.train.Saver()\n",
    "writer = tf.summary.FileWriter(logdir=logdir, graph=sess.graph)\n",
    "\n",
    "# maybe restore last checkpoint\n",
    "if tf.gfile.Exists(save_path):\n",
    "    try:\n",
    "        sys.stdout.write('\\rAttempting to restore the last checkpoint.\\n')\n",
    "        last_ckpt = tf.train.latest_checkpoint(checkpoint_dir=save_path)\n",
    "        saver.restore(sess=sess, save_path=last_ckpt)\n",
    "        sys.stdout.write('\\rRestored checkpoint from {}'.format(last_ckpt))\n",
    "    except Exception as e:\n",
    "        sys.stderr.write('INFO: {}'.format(e))\n",
    "else:\n",
    "    tf.gfile.MakeDirs(save_path)\n",
    "    sys.stdout.write('INFO: Created checkpoint dir: {}'.format(save_path))"
   ]
  },
  {
   "cell_type": "markdown",
   "metadata": {
    "deletable": true,
    "editable": true
   },
   "source": [
    "## Training"
   ]
  },
  {
   "cell_type": "code",
   "execution_count": null,
   "metadata": {
    "collapsed": false,
    "deletable": true,
    "editable": true,
    "scrolled": false
   },
   "outputs": [
    {
     "name": "stdout",
     "output_type": "stream",
     "text": [
      "Iter: 1,000\tGlobal step: 9,999\tLoss:195346928.0000\tTrain time: 0:31:48.608759"
     ]
    },
    {
     "data": {
      "image/png": "[encoded data removed]",
      "text/plain": [
       "<matplotlib.figure.Figure at 0x1187d1b00>"
      ]
     },
     "metadata": {},
     "output_type": "display_data"
    },
    {
     "name": "stdout",
     "output_type": "stream",
     "text": [
      "Iter: 1,102\tGlobal step: 10,101\tLoss:232411328.0000\tTrain time: 0:33:32.767287"
     ]
    }
   ],
   "source": [
    "start_time = dt.datetime.now()\n",
    "for i in range(1, iterations+1):\n",
    "    batch = data.next_batch(batch_size=batch_size)[0]\n",
    "    _, _i_global, _loss = sess.run([train_step, global_step, loss], feed_dict={X: batch})\n",
    "    if i % save_interval == 0:\n",
    "        saver.save(sess=sess, save_path=pretrained, global_step=global_step)\n",
    "        summary = sess.run(merged, feed_dict={X: batch})\n",
    "        writer.add_summary(summary=summary, global_step=_i_global)\n",
    "    if i % log_interval == 0:\n",
    "        random = [np.random.normal(0, 1, latent_dim) for _ in range(9)]\n",
    "        imgs = sess.run(decoded, feed_dict={encoded: random})\n",
    "        plot_images(imgs, size=image_size, name='Test images', smooth=True)\n",
    "    sys.stdout.write('\\rIter: {:,}\\tGlobal step: {:,}\\tLoss:{:.4f}\\tTrain time: {}'.format(\n",
    "        i+1, _i_global, _loss, dt.datetime.now() - start_time))"
   ]
  },
  {
   "cell_type": "code",
   "execution_count": null,
   "metadata": {
    "collapsed": true,
    "deletable": true,
    "editable": true
   },
   "outputs": [],
   "source": []
  },
  {
   "cell_type": "code",
   "execution_count": null,
   "metadata": {
    "collapsed": true,
    "deletable": true,
    "editable": true
   },
   "outputs": [],
   "source": []
  }
 ],
 "metadata": {
  "kernelspec": {
   "display_name": "Python 3",
   "language": "python",
   "name": "python3"
  },
  "language_info": {
   "codemirror_mode": {
    "name": "ipython",
    "version": 3
   },
   "file_extension": ".py",
   "mimetype": "text/x-python",
   "name": "python",
   "nbconvert_exporter": "python",
   "pygments_lexer": "ipython3",
   "version": "3.6.3"
  }
 },
 "nbformat": 4,
 "nbformat_minor": 2
}
